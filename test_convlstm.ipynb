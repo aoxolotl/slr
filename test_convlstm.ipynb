{
 "cells": [
  {
   "cell_type": "code",
   "execution_count": 1,
   "metadata": {},
   "outputs": [],
   "source": [
    "import os\n",
    "from datasets.rwth import RWTHSignDataset\n",
    "\n",
    "import torch\n",
    "import torch.nn as nn\n",
    "\n",
    "import torchvision.transforms as transforms\n",
    "from torch.utils.data import DataLoader\n",
    "\n",
    "from models.convlstm import ConvLSTM\n",
    "\n",
    "%load_ext autoreload\n",
    "%autoreload 2"
   ]
  },
  {
   "cell_type": "code",
   "execution_count": 2,
   "metadata": {},
   "outputs": [],
   "source": [
    "class RWTHFrameStack(RWTHSignDataset):\n",
    "    def __init__(self, wsize = 12, stride = 7, **kwargs):\n",
    "        super(RWTHFrameStack, self).__init__(**kwargs)\n",
    "        self.wsize = wsize\n",
    "        self.stride = stride\n",
    "        \n",
    "    def __getitem__(self, idx):\n",
    "        self.frames, _ = super(RWTHFrameStack, self).__getitem__(idx)\n",
    "        flen = len(self.frames)\n",
    "        if flen:\n",
    "            self.framestack = [self.frames[i:i+self.wsize] \\\n",
    "                           for i in range(0, flen - self.wsize, self.stride)]\n",
    "            self.framestack = [torch.stack(f) for f in self.framestack]\n",
    "            return torch.stack(self.framestack)\n",
    "        else:\n",
    "            self.framestack = torch.Tensor([])\n",
    "            return self.framestack\n",
    "        \n",
    "    def __len__(self):\n",
    "        return len(self.framestack)"
   ]
  },
  {
   "cell_type": "code",
   "execution_count": 3,
   "metadata": {},
   "outputs": [],
   "source": [
    "preprocess = preprocess = transforms.Compose([\n",
    "    transforms.Resize((257, 257)),\n",
    "    transforms.ToTensor(),\n",
    "    transforms.Normalize(mean=[0.485, 0.456, 0.406], std=[0.229, 0.224, 0.225]),\n",
    "])"
   ]
  },
  {
   "cell_type": "code",
   "execution_count": 4,
   "metadata": {},
   "outputs": [],
   "source": [
    "basedir = \"/home/reverie/datasets/phoenix2014-release/phoenix-2014-multisigner\"\n",
    "csvf = \"annotations/manual/train.corpus.csv\"\n",
    "\n",
    "csvf = os.path.join(basedir, csvf)\n",
    "signdir = os.path.join(basedir, \"features/fullFrame-210x260px/train/\")\n",
    "rwthfs = RWTHFrameStack(csv_file = csvf, sign_dir=signdir, transform=preprocess)"
   ]
  },
  {
   "cell_type": "code",
   "execution_count": 5,
   "metadata": {},
   "outputs": [],
   "source": [
    "t = rwthfs.__getitem__(18)"
   ]
  },
  {
   "cell_type": "code",
   "execution_count": 6,
   "metadata": {},
   "outputs": [
    {
     "data": {
      "text/plain": [
       "torch.Size([14, 12, 3, 257, 257])"
      ]
     },
     "execution_count": 6,
     "metadata": {},
     "output_type": "execute_result"
    }
   ],
   "source": [
    "t.shape"
   ]
  },
  {
   "cell_type": "code",
   "execution_count": 7,
   "metadata": {
    "scrolled": true
   },
   "outputs": [],
   "source": [
    "#import h5py\n",
    "#from tqdm import tqdm\n",
    "\n",
    "            "
   ]
  },
  {
   "cell_type": "raw",
   "metadata": {},
   "source": [
    "with h5py.File('rwth-frames.hdf5', 'w') as f:\n",
    "    dset = f.create_dataset('frames', (1000, 12, 3, 256, 256))\n",
    "    i = 0\n",
    "    for d in tqdm(rwthfs):\n",
    "        if i + len(d) > 1000:\n",
    "            break\n",
    "        if len(d):\n",
    "            print(len(d))\n",
    "            dset[i:i+len(d), :, :, :, :] = d\n",
    "            i = i + len(d)"
   ]
  },
  {
   "cell_type": "raw",
   "metadata": {},
   "source": [
    "with h5py.File('rwth-frames.hdf5','r') as f:\n",
    "    dset = f['frames']\n",
    "    t = dset[993]\n",
    "    print(t.shape)\n",
    "    print(t)"
   ]
  },
  {
   "cell_type": "code",
   "execution_count": null,
   "metadata": {},
   "outputs": [],
   "source": []
  },
  {
   "cell_type": "code",
   "execution_count": 8,
   "metadata": {},
   "outputs": [],
   "source": [
    "class ConvAutoencoder(nn.Module):\n",
    "    def __init__(self):\n",
    "        super(ConvAutoencoder, self).__init__()\n",
    "        # Encoder\n",
    "        self.conv1 = nn.Conv2d(3, 128, kernel_size=11, stride=4, padding=1) \n",
    "        self.conv2 = nn.Conv2d(128, 64, kernel_size=5, stride=2, padding=1)\n",
    "        self.clstm1 = ConvLSTM((31, 31), 64, \\\n",
    "                               kernel_size=(3, 3), hidden_dim=64, num_layers=1, \\\n",
    "                               batch_first=True)#, return_all_layers=True)\n",
    "        # Bottleneck\n",
    "        self.bottleneck = ConvLSTM((31, 31), 64, \\\n",
    "                                   kernel_size=(3, 3), hidden_dim=32, num_layers=1, \\\n",
    "                                   batch_first = True)#, return_all_layers=True)\n",
    "        \n",
    "        # Decoder\n",
    "        self.clstm2 = ConvLSTM((31, 31), 32, \\\n",
    "                               kernel_size=(3, 3), hidden_dim=64, num_layers=1, \\\n",
    "                               batch_first = True)#, return_all_layers=True)\n",
    "        self.deconv1 = nn.ConvTranspose2d(64, 128, kernel_size=5, stride=2, padding=1)\n",
    "        self.deconv2 = nn.ConvTranspose2d(128, 3, kernel_size=11, stride=4, padding=1)\n",
    "    \n",
    "    def encode(self, x):\n",
    "        \"\"\"\n",
    "        Encode including bottleneck.\n",
    "        \"\"\"\n",
    "        self.batch_size, self.num_frames = x.shape[0], x.shape[1]\n",
    "        x = x.view(-1, x.shape[2], x.shape[3], x.shape[4])\n",
    "        x = self.conv1(x)\n",
    "        x = self.conv2(x)\n",
    "        #breakpoint()\n",
    "        x = x.view(-1, self.num_frames, x.shape[1], x.shape[2], x.shape[3])\n",
    "        #breakpoint()\n",
    "        x, _ = self.clstm1(x)\n",
    "        x, _ = self.bottleneck(x[0])\n",
    "        return x[0]\n",
    "    \n",
    "    def decode(self, x):\n",
    "        x, _ = self.clstm2(x)\n",
    "        x = x[0]\n",
    "        x = x.view(-1, x.shape[2], x.shape[3], x.shape[4])\n",
    "        breakpoint()\n",
    "        x = self.deconv1(x)\n",
    "        x = self.deconv2(x)\n",
    "        x = x.view(self.batch_size, self.num_frames, x.shape[1], x.shape[2], x.shape[3])\n",
    "        return x\n",
    "    \n",
    "    def forward(self, x):\n",
    "        \"\"\"\n",
    "        x is a video sequence of size T x 3 x 256 x 256\n",
    "        \"\"\"\n",
    "        x = self.encode(x)\n",
    "        x = self.decode(x)\n",
    "        return x        \n",
    "        "
   ]
  },
  {
   "cell_type": "code",
   "execution_count": 9,
   "metadata": {},
   "outputs": [],
   "source": [
    "cae = ConvAutoencoder()"
   ]
  },
  {
   "cell_type": "code",
   "execution_count": 10,
   "metadata": {},
   "outputs": [],
   "source": [
    "cae = cae.cuda()"
   ]
  },
  {
   "cell_type": "code",
   "execution_count": 11,
   "metadata": {},
   "outputs": [
    {
     "data": {
      "text/plain": [
       "torch.Size([14, 12, 3, 257, 257])"
      ]
     },
     "execution_count": 11,
     "metadata": {},
     "output_type": "execute_result"
    }
   ],
   "source": [
    "t.shape"
   ]
  },
  {
   "cell_type": "code",
   "execution_count": 12,
   "metadata": {},
   "outputs": [
    {
     "name": "stdout",
     "output_type": "stream",
     "text": [
      "> <ipython-input-8-5b4d696367b5>(42)decode()\n",
      "-> x = self.deconv1(x)\n",
      "(Pdb) c\n"
     ]
    }
   ],
   "source": [
    "t = cae.forward(t.cuda())"
   ]
  },
  {
   "cell_type": "code",
   "execution_count": 13,
   "metadata": {},
   "outputs": [
    {
     "data": {
      "text/plain": [
       "torch.Size([14, 12, 3, 257, 257])"
      ]
     },
     "execution_count": 13,
     "metadata": {},
     "output_type": "execute_result"
    }
   ],
   "source": [
    "t.shape"
   ]
  },
  {
   "cell_type": "code",
   "execution_count": 14,
   "metadata": {},
   "outputs": [],
   "source": [
    "#nn.ConvTranspose2d"
   ]
  },
  {
   "cell_type": "code",
   "execution_count": null,
   "metadata": {},
   "outputs": [],
   "source": []
  }
 ],
 "metadata": {
  "kernelspec": {
   "display_name": "Python 3",
   "language": "python",
   "name": "python3"
  },
  "language_info": {
   "codemirror_mode": {
    "name": "ipython",
    "version": 3
   },
   "file_extension": ".py",
   "mimetype": "text/x-python",
   "name": "python",
   "nbconvert_exporter": "python",
   "pygments_lexer": "ipython3",
   "version": "3.7.3"
  }
 },
 "nbformat": 4,
 "nbformat_minor": 2
}
